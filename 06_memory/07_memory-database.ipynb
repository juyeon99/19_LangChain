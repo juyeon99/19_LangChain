{
 "cells": [
  {
   "cell_type": "markdown",
   "metadata": {},
   "source": [
    "### SQLChatMessageHistory\n",
    "* 채팅 메세지를 SQL DB에 저장하는 클래스\n",
    "\n",
    "**주요 특징**\n",
    "* SQL DB를 사용해 채팅 기록을 영구적으로 저장\n",
    "* 세션 ID를 통한 대화 구분 및 관리 기능\n",
    "* SQLAlchemy를 사용해 다양한 DB 사용 가능\n",
    "* 메세지 CRUD 가능"
   ]
  },
  {
   "cell_type": "markdown",
   "metadata": {},
   "source": [
    "* session_id: 사용자 이름, 이메일 같은 고유 식별자\n",
    "* connection: DB 연결을 지정하는 문자"
   ]
  },
  {
   "cell_type": "code",
   "execution_count": 1,
   "metadata": {},
   "outputs": [],
   "source": [
    "from langchain_community.chat_message_histories import SQLChatMessageHistory\n",
    "\n",
    "chat_message_history = SQLChatMessageHistory(\n",
    "    session_id=\"sql_history\",\n",
    "    connection=\"sqlite:///chat_history.db\"\n",
    ")"
   ]
  },
  {
   "cell_type": "code",
   "execution_count": 2,
   "metadata": {},
   "outputs": [],
   "source": [
    "chat_message_history.add_user_message(\n",
    "    \"안녕? 만나서 반가워. 나는 Bear야.\"\n",
    ")"
   ]
  },
  {
   "cell_type": "code",
   "execution_count": 4,
   "metadata": {},
   "outputs": [],
   "source": [
    "chat_message_history.add_ai_message(\n",
    "    \"안녕 Bear, 만나서 반가워\"\n",
    ")"
   ]
  },
  {
   "cell_type": "code",
   "execution_count": 5,
   "metadata": {},
   "outputs": [
    {
     "data": {
      "text/plain": [
       "[HumanMessage(content='안녕? 만나서 반가워. 나는 Bear야.', additional_kwargs={}, response_metadata={}),\n",
       " AIMessage(content='안녕 Bear, 만나서 반가워', additional_kwargs={}, response_metadata={})]"
      ]
     },
     "execution_count": 5,
     "metadata": {},
     "output_type": "execute_result"
    }
   ],
   "source": [
    "chat_message_history.messages"
   ]
  },
  {
   "cell_type": "code",
   "execution_count": 6,
   "metadata": {},
   "outputs": [],
   "source": [
    "from langchain_core.prompts import ChatPromptTemplate, MessagesPlaceholder\n",
    "from langchain_openai import ChatOpenAI\n",
    "from langchain_core.output_parsers import StrOutputParser\n",
    "\n",
    "prompt = ChatPromptTemplate.from_messages(\n",
    "    [\n",
    "        (\"system\", \"You are a helpful AI Assistant.\"),\n",
    "        MessagesPlaceholder(variable_name=\"chat_history\"),\n",
    "        (\"human\", \"{question}\")\n",
    "    ]\n",
    ")\n",
    "\n",
    "chain = prompt | ChatOpenAI(temperature=0, model=\"gpt-4o\") | StrOutputParser()"
   ]
  },
  {
   "cell_type": "code",
   "execution_count": 7,
   "metadata": {},
   "outputs": [],
   "source": [
    "def get_chat_history(user_id, conversation_id):\n",
    "    return SQLChatMessageHistory(\n",
    "        table_name=user_id,\n",
    "        session_id=conversation_id,\n",
    "        connection=\"sqlite:///chat_history.db\"\n",
    "    )"
   ]
  },
  {
   "cell_type": "code",
   "execution_count": 8,
   "metadata": {},
   "outputs": [],
   "source": [
    "from langchain_core.runnables.utils import ConfigurableFieldSpec\n",
    "\n",
    "config_field = [\n",
    "    ConfigurableFieldSpec(\n",
    "        id=\"user_id\",       # 설정 값의 고유 식별자\n",
    "        annotation=str,     # 설정 값의 데이터 타입\n",
    "        name=\"USER ID\",     # 설정 값의 이름\n",
    "        description=\"Unique identifier for a user\", # 설정 값에 대한 설명\n",
    "        default=\"\",         # 기본 값\n",
    "        is_shared=True      # 여러 대화에서 공유되는 값인지 여부\n",
    "    ),\n",
    "    ConfigurableFieldSpec(\n",
    "        id=\"conversation_id\",\n",
    "        annotation=str,\n",
    "        name=\"CONVERSATION ID\",\n",
    "        description=\"Unique identifier for a conversation\",\n",
    "        default=\"\",\n",
    "        is_shared=True\n",
    "    )\n",
    "]"
   ]
  },
  {
   "cell_type": "code",
   "execution_count": null,
   "metadata": {},
   "outputs": [],
   "source": [
    "from langchain_core.runnables.history import RunnableWithMessageHistory\n",
    "\n",
    "chain_with_history = RunnableWithMessageHistory(\n",
    "    chain,\n",
    "    get_session_history=get_chat_history,   # 대화 기록을 가져오는 user defined 함수\n",
    "    input_messages_key=\"question\",          # 입력 메세지 키\n",
    "    history_messages_key=\"chat_history\",    # 대화 기록 메세지의 키\n",
    "    history_factory_config=config_field     # 대화 기록 조회 시 참조할 파라미터\n",
    ")"
   ]
  },
  {
   "cell_type": "code",
   "execution_count": null,
   "metadata": {},
   "outputs": [
    {
     "data": {
      "text/plain": [
       "'안녕하세요, Bear! 만나서 반가워요. 어떻게 도와드릴까요?'"
      ]
     },
     "execution_count": 12,
     "metadata": {},
     "output_type": "execute_result"
    }
   ],
   "source": [
    "# user1, conversation1\n",
    "config = {\"configurable\":{\"user_id\":\"user1\", \"conversation_id\":\"conversation1\"}}\n",
    "\n",
    "chain_with_history.invoke({\"question\":\"안녕 반가워, 내 이름은 bear야.\"}, config)"
   ]
  },
  {
   "cell_type": "code",
   "execution_count": null,
   "metadata": {},
   "outputs": [
    {
     "data": {
      "text/plain": [
       "'당신의 이름은 Bear라고 하셨습니다. 맞나요?'"
      ]
     },
     "execution_count": 13,
     "metadata": {},
     "output_type": "execute_result"
    }
   ],
   "source": [
    "# user1, conversation1\n",
    "config = {\"configurable\":{\"user_id\":\"user1\", \"conversation_id\":\"conversation1\"}}\n",
    "\n",
    "chain_with_history.invoke({\"question\":\"내 이름이 뭐라고?\"}, config)"
   ]
  },
  {
   "cell_type": "code",
   "execution_count": null,
   "metadata": {},
   "outputs": [
    {
     "data": {
      "text/plain": [
       "'죄송하지만, 저는 당신의 이름을 알 수 없습니다. 당신의 이름을 알려주시면 기억하도록 하겠습니다.'"
      ]
     },
     "execution_count": 14,
     "metadata": {},
     "output_type": "execute_result"
    }
   ],
   "source": [
    "# user1, conversation2\n",
    "config = {\"configurable\":{\"user_id\":\"user1\", \"conversation_id\":\"conversation2\"}}\n",
    "\n",
    "chain_with_history.invoke({\"question\":\"내 이름이 뭐라고?\"}, config)"
   ]
  },
  {
   "cell_type": "code",
   "execution_count": null,
   "metadata": {},
   "outputs": [
    {
     "data": {
      "text/plain": [
       "'죄송하지만, 저는 당신의 이름을 알 수 없습니다. 당신의 이름을 알려주시면 기억하도록 하겠습니다.'"
      ]
     },
     "execution_count": 15,
     "metadata": {},
     "output_type": "execute_result"
    }
   ],
   "source": [
    "# user2, conversation1\n",
    "config = {\"configurable\":{\"user_id\":\"user2\", \"conversation_id\":\"conversation1\"}}\n",
    "\n",
    "chain_with_history.invoke({\"question\":\"내 이름이 뭐라고?\"}, config)"
   ]
  }
 ],
 "metadata": {
  "kernelspec": {
   "display_name": "langchain_env",
   "language": "python",
   "name": "python3"
  },
  "language_info": {
   "codemirror_mode": {
    "name": "ipython",
    "version": 3
   },
   "file_extension": ".py",
   "mimetype": "text/x-python",
   "name": "python",
   "nbconvert_exporter": "python",
   "pygments_lexer": "ipython3",
   "version": "3.11.10"
  }
 },
 "nbformat": 4,
 "nbformat_minor": 2
}

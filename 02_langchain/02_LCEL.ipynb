{
 "cells": [
  {
   "cell_type": "markdown",
   "metadata": {},
   "source": [
    "### LCEL (LangChain Expression Language)\n",
    "* 사용자의 입력 -> 프롬프트 템플릿 -> LLM 모델 전달\n",
    "* 각 단계를 차례로 엮어서 하나의 파이프 라인으로 만들어주는 것<br>\n",
    "\n",
    "chain = prompt | model | output_parser\n",
    "\n",
    "### 프롬프트 템플릿\n",
    "* 사용자의 입력 변수를 받아서 완전한 프롬프트 문자열을 만드는데 사용하는 템플릿"
   ]
  },
  {
   "cell_type": "code",
   "execution_count": 1,
   "metadata": {},
   "outputs": [],
   "source": [
    "from langchain_core.prompts import PromptTemplate\n",
    "\n",
    "template = \"{lecture}에 대해 설명해주세요.\"\n",
    "\n",
    "prompt_template = PromptTemplate(template=template, input_variables=[\"lecture\"])"
   ]
  },
  {
   "cell_type": "code",
   "execution_count": 2,
   "metadata": {},
   "outputs": [
    {
     "name": "stdout",
     "output_type": "stream",
     "text": [
      "spring에 대해 설명해주세요.\n"
     ]
    }
   ],
   "source": [
    "lecture = input(\"궁금한 과목을 입력하세요: \")\n",
    "prompt = prompt_template.format(lecture=lecture)\n",
    "\n",
    "print(prompt)"
   ]
  },
  {
   "cell_type": "code",
   "execution_count": 3,
   "metadata": {},
   "outputs": [],
   "source": [
    "from langchain_openai import ChatOpenAI\n",
    "\n",
    "model = ChatOpenAI(\n",
    "    model=\"gpt-3.5-turbo\",\n",
    "    temperature=0.1\n",
    ")"
   ]
  },
  {
   "cell_type": "code",
   "execution_count": 4,
   "metadata": {},
   "outputs": [],
   "source": [
    "chain = prompt_template | model"
   ]
  },
  {
   "cell_type": "code",
   "execution_count": 5,
   "metadata": {},
   "outputs": [],
   "source": [
    "# Prompt Template의 변수에 작성할 때는 Dictionary 형태로 key-value 쌍으로 입력\n",
    "input = {\"lecture\":'LangChain'}"
   ]
  },
  {
   "cell_type": "code",
   "execution_count": 6,
   "metadata": {},
   "outputs": [
    {
     "data": {
      "text/plain": [
       "AIMessage(content='LangChain는 다양한 언어를 지원하는 블록체인 기술을 기반으로 한 플랫폼입니다. 이 플랫폼은 언어 간 커뮤니케이션을 쉽게 할 수 있도록 도와주며, 언어 장벽을 극복하여 글로벌 비즈니스 및 커뮤니케이션을 원활하게 할 수 있도록 지원합니다.\\n\\nLangChain은 블록체인 기술을 활용하여 언어 번역 및 통역 서비스를 제공하고, 이를 통해 언어 간 소통을 원활하게 도와줍니다. 또한, LangChain은 스마트 계약을 통해 언어 서비스에 대한 결제 및 보안을 보장하며, 블록체인의 투명성과 안전성을 통해 신뢰성 있는 서비스를 제공합니다.\\n\\n이러한 LangChain의 기술은 글로벌 시장에서의 다국어 커뮤니케이션을 촉진하고, 다양한 언어 및 문화 간의 이해를 증진시킴으로써 글로벌 비즈니스 및 협업을 촉진하는 데 도움을 줄 수 있습니다.', additional_kwargs={'refusal': None}, response_metadata={'token_usage': {'completion_tokens': 387, 'prompt_tokens': 17, 'total_tokens': 404, 'completion_tokens_details': {'audio_tokens': None, 'reasoning_tokens': 0}, 'prompt_tokens_details': {'audio_tokens': None, 'cached_tokens': 0}}, 'model_name': 'gpt-3.5-turbo-0125', 'system_fingerprint': None, 'finish_reason': 'stop', 'logprobs': None}, id='run-3d350353-2f25-4138-9bff-383b07b9d505-0', usage_metadata={'input_tokens': 17, 'output_tokens': 387, 'total_tokens': 404, 'input_token_details': {'cache_read': 0}, 'output_token_details': {'reasoning': 0}})"
      ]
     },
     "execution_count": 6,
     "metadata": {},
     "output_type": "execute_result"
    }
   ],
   "source": [
    "chain.invoke(input)"
   ]
  },
  {
   "cell_type": "markdown",
   "metadata": {},
   "source": [
    "### 출력 형식 지정 (Output Parser)\n",
    "* LLM 모델이 응답해주는 내용에 대한 형식을 지정해주는 것"
   ]
  },
  {
   "cell_type": "code",
   "execution_count": 7,
   "metadata": {},
   "outputs": [],
   "source": [
    "from langchain_core.output_parsers import StrOutputParser\n",
    "\n",
    "output_parser = StrOutputParser()"
   ]
  },
  {
   "cell_type": "code",
   "execution_count": 8,
   "metadata": {},
   "outputs": [],
   "source": [
    "chain = prompt_template | model | output_parser"
   ]
  },
  {
   "cell_type": "code",
   "execution_count": 9,
   "metadata": {},
   "outputs": [
    {
     "data": {
      "text/plain": [
       "'LangChain은 언어 번역 및 통역 서비스를 제공하는 블록체인 기반의 플랫폼입니다. 이 플랫폼은 블록체인 기술을 활용하여 번역자와 의뢰자 간의 거래를 안전하고 투명하게 처리하며, 품질 높은 번역 서비스를 제공합니다.\\n\\nLangChain은 스마트 계약을 통해 번역자와 의뢰자 간의 계약을 체결하고, 작업 완료 후에는 자동으로 보상을 지급합니다. 이를 통해 번역 프로세스의 효율성을 높이고, 번역자와 의뢰자 간의 신뢰를 구축합니다.\\n\\n또한 LangChain은 블록체인을 통해 번역 작업의 품질을 관리하고, 번역자의 실력과 신뢰도를 평가하는 시스템을 구축하여 고품질의 번역 서비스를 제공합니다.\\n\\n이러한 LangChain의 플랫폼을 통해 언어 번역 및 통역 서비스의 품질과 효율성을 향상시키며, 글로벌 비즈니스 및 커뮤니케이션에 도움을 줄 수 있습니다.'"
      ]
     },
     "execution_count": 9,
     "metadata": {},
     "output_type": "execute_result"
    }
   ],
   "source": [
    "chain.invoke(input)"
   ]
  },
  {
   "cell_type": "code",
   "execution_count": 10,
   "metadata": {},
   "outputs": [],
   "source": [
    "### 영어 회화를 알려주는 선생님 챗봇\n",
    "### 어떤 상황을 주면 영어회화 + 한글 해석\n",
    "\n",
    "template = \"\"\"\n",
    "당신은 영어를 가르치는 10년차 선생님입니다.\n",
    "주어진 상황에 맞는 영어 회화를 작성해주세요.\n",
    "양식은 [FORMAT]을 참고하여 작성해주세요.\n",
    "\n",
    "#상황:\n",
    "{question}\n",
    "\n",
    "#FORMAT:\n",
    "- 영어 회화:\n",
    "- 한글 해석:\n",
    "\"\"\"\n",
    "\n",
    "# 프롬프트 템플릿 작성\n",
    "prompt = PromptTemplate.from_template(template)\n",
    "\n",
    "# 모델 객체 작성\n",
    "model = ChatOpenAI(model_name=\"gpt-4o\")\n",
    "\n",
    "# 문자열 출력 파서 객체 생성\n",
    "output_parser = StrOutputParser()"
   ]
  },
  {
   "cell_type": "code",
   "execution_count": 11,
   "metadata": {},
   "outputs": [],
   "source": [
    "# 체인 구성\n",
    "chain = prompt | model | output_parser"
   ]
  },
  {
   "cell_type": "code",
   "execution_count": 12,
   "metadata": {},
   "outputs": [
    {
     "name": "stdout",
     "output_type": "stream",
     "text": [
      "- 영어 회화:\n",
      "  - Waiter: Hello! Welcome to our restaurant. How many people are in your party?\n",
      "  - Customer: Hi! It's just two of us.\n",
      "  - Waiter: Great, please follow me to your table. Here are the menus. Can I get you started with some drinks?\n",
      "  - Customer: Yes, I'll have a glass of water, please. And what do you recommend for the main course?\n",
      "  - Waiter: Our grilled salmon is very popular. Would you like to try it?\n",
      "  - Customer: That sounds good. I'll have the grilled salmon. And could I also get a Caesar salad?\n",
      "  - Waiter: Certainly. Anything else?\n",
      "  - Customer: No, that's all for now, thank you.\n",
      "  - Waiter: You're welcome. Your order will be ready shortly.\n",
      "\n",
      "- 한글 해석:\n",
      "  - 웨이터: 안녕하세요! 저희 레스토랑에 오신 것을 환영합니다. 몇 분이신가요?\n",
      "  - 손님: 안녕하세요! 두 명이에요.\n",
      "  - 웨이터: 좋습니다, 저를 따라 테이블로 가시죠. 여기 메뉴입니다. 음료부터 주문하시겠어요?\n",
      "  - 손님: 네, 물 한 잔 주세요. 그리고 메인 요리로 뭐가 좋을까요?\n",
      "  - 웨이터: 저희의 그릴드 연어가 인기가 많아요. 드셔보시겠어요?\n",
      "  - 손님: 좋네요. 그릴드 연어로 할게요. 그리고 시저 샐러드도 하나 주세요.\n",
      "  - 웨이터: 알겠습니다. 더 필요한 것은 없으신가요?\n",
      "  - 손님: 아니요, 지금은 이걸로 충분해요. 감사합니다.\n",
      "  - 웨이터: 네, 알겠습니다. 곧 준비해 드리겠습니다.\n"
     ]
    }
   ],
   "source": [
    "# Chain 실행\n",
    "print(chain.invoke({\"question\":\"저는 식당에 가서 음식을 주문하고 싶어요.\"}))"
   ]
  },
  {
   "cell_type": "code",
   "execution_count": 13,
   "metadata": {},
   "outputs": [
    {
     "name": "stdout",
     "output_type": "stream",
     "text": [
      "- 요리명: 닭고기 고추장 볶음\n",
      "- 재료: 닭고기, 당근, 양파, 고추장\n",
      "- 조리법: \n",
      "  1. 닭고기를 한 입 크기로 잘라 준비합니다.\n",
      "  2. 당근과 양파를 얇게 채썰어 준비합니다.\n",
      "  3. 중불로 예열한 팬에 기름을 두르고 닭고기를 넣어 겉면이 익을 때까지 볶습니다.\n",
      "  4. 닭고기가 어느 정도 익으면 당근과 양파를 추가하고 함께 볶습니다.\n",
      "  5. 야채가 부드러워지면 고추장을 넣고 잘 섞어가며 볶아줍니다.\n",
      "  6. 모든 재료가 잘 어우러지고 익을 때까지 볶아주면 완성입니다.\n",
      "  7. 접시에 담아 맛있게 즐기세요.\n"
     ]
    }
   ],
   "source": [
    "# 여러가지 재료를 변수로 입력받고 재료로 요리할 수 있는 요리의 요리명, 재료, 조리법을\n",
    "# 포맷으로 받는 템플릿을 작성하고 문자열 출력 파서로 응답을 받을 수 있게 체인 구성\n",
    "template = \"\"\"\n",
    "당신은 요리사입니다. 주어진 재료로 요리할 수 있는 요리의 요리명, 재료, 조리법을 작성해주세요.\n",
    "양식은 [FORMAT]을 참고하여 작성해주세요.\n",
    "\n",
    "#재료:\n",
    "{ingredients}\n",
    "\n",
    "#FORMAT:\n",
    "- 요리명:\n",
    "- 재료:\n",
    "- 조리법:\n",
    "\"\"\"\n",
    "\n",
    "# 프롬프트 템플릿 작성\n",
    "prompt = PromptTemplate.from_template(template)\n",
    "\n",
    "# 모델 객체 작성\n",
    "model = ChatOpenAI(model_name=\"gpt-4o\")\n",
    "\n",
    "# 문자열 출력 파서 객체 생성\n",
    "output_parser = StrOutputParser()\n",
    "\n",
    "# 체인 구성\n",
    "chain = prompt | model | output_parser\n",
    "\n",
    "# Chain 실행하여 답변 얻기\n",
    "print(chain.invoke({\"ingredients\":\"닭고기, 당근, 양파, 고추장\"}))\n",
    "# print(chain.invoke({\"ingredients\": [\"토마토\", \"바질\", \"모짜렐라\"]}))"
   ]
  }
 ],
 "metadata": {
  "kernelspec": {
   "display_name": "langchain_env",
   "language": "python",
   "name": "python3"
  },
  "language_info": {
   "codemirror_mode": {
    "name": "ipython",
    "version": 3
   },
   "file_extension": ".py",
   "mimetype": "text/x-python",
   "name": "python",
   "nbconvert_exporter": "python",
   "pygments_lexer": "ipython3",
   "version": "3.11.10"
  }
 },
 "nbformat": 4,
 "nbformat_minor": 2
}

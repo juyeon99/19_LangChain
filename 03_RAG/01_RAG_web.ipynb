{
 "cells": [
  {
   "cell_type": "code",
   "execution_count": null,
   "metadata": {},
   "outputs": [],
   "source": [
    "!pip install bs4"
   ]
  },
  {
   "cell_type": "code",
   "execution_count": 3,
   "metadata": {},
   "outputs": [
    {
     "name": "stdout",
     "output_type": "stream",
     "text": [
      "APT는 로제와 브루노 마스가 함께 부른 노래입니다.\n"
     ]
    }
   ],
   "source": [
    "from dotenv import load_dotenv\n",
    "from langchain_community.document_loaders import WebBaseLoader\n",
    "import bs4\n",
    "from langchain_text_splitters import RecursiveCharacterTextSplitter\n",
    "from langchain_openai import OpenAIEmbeddings, ChatOpenAI\n",
    "from langchain_community.vectorstores import FAISS\n",
    "from langchain_core.prompts import PromptTemplate\n",
    "from langchain_core.runnables import RunnablePassthrough\n",
    "from langchain_core.output_parsers import StrOutputParser\n",
    "\n",
    "# 환경변수 가져오기\n",
    "load_dotenv()\n",
    "\n",
    "loader = WebBaseLoader(\n",
    "    web_path=(\"https://n.news.naver.com/article/437/0000416134\"),\n",
    "    bs_kwargs=dict(\n",
    "        # 특정 element만 파싱하도록 제한하는 필터 적용\n",
    "        parse_only=bs4.SoupStrainer(\n",
    "            \"div\",\n",
    "            attrs={\"class\":[\"newsct_article _article_body\", \"media_end_head go_trans\"]}\n",
    "        )\n",
    "    )\n",
    ")\n",
    "\n",
    "docs = loader.load()\n",
    "# print(docs)\n",
    "\n",
    "# 문서 분할\n",
    "text_splitter = RecursiveCharacterTextSplitter(chunk_size=100, chunk_overlap=10)\n",
    "\n",
    "splits = text_splitter.split_documents(docs)\n",
    "\n",
    "# 임베딩 생성\n",
    "embedding = OpenAIEmbeddings()\n",
    "\n",
    "# 벡터 저장소 생성\n",
    "vectorstore = FAISS.from_documents(documents=splits, embedding=embedding)\n",
    "\n",
    "# 검색기(retriever) 생성\n",
    "retriever = vectorstore.as_retriever()\n",
    "\n",
    "# runtime\n",
    "# 프롬프트\n",
    "prompt = PromptTemplate.from_template(\n",
    "    \"\"\"\n",
    "    당신은 질문-답변을 수행하는 AI 어시스턴트입니다.\n",
    "    주어진 문맥에 검색된 다음 문맥(context)를 사용해 질문에 답해야 합니다.\n",
    "    만약 주어진 문맥에서 답을 찾을 수 없는 경우, 모른다고 이야기하세요.\n",
    "    한글로 답변해주세요.\n",
    "\n",
    "    #Question:\n",
    "    {question}\n",
    "\n",
    "    #Context:\n",
    "    {context}\n",
    "\n",
    "    #Answer:\n",
    "    \"\"\"\n",
    ")\n",
    "\n",
    "# LLM 모델\n",
    "llm = ChatOpenAI(model=\"gpt-4o\", temperature=0)\n",
    "\n",
    "# Chain 구성\n",
    "news_chain = (\n",
    "    {\"context\":retriever, \"question\":RunnablePassthrough()}\n",
    "    | prompt\n",
    "    | llm\n",
    "    | StrOutputParser()\n",
    ")\n",
    "\n",
    "# 질문\n",
    "answer = news_chain.invoke(\"APT는 누가 부른 노래야?\")\n",
    "print(answer)"
   ]
  }
 ],
 "metadata": {
  "kernelspec": {
   "display_name": "langchain_env",
   "language": "python",
   "name": "python3"
  },
  "language_info": {
   "codemirror_mode": {
    "name": "ipython",
    "version": 3
   },
   "file_extension": ".py",
   "mimetype": "text/x-python",
   "name": "python",
   "nbconvert_exporter": "python",
   "pygments_lexer": "ipython3",
   "version": "3.11.10"
  }
 },
 "nbformat": 4,
 "nbformat_minor": 2
}
